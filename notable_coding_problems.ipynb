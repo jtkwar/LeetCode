{
 "cells": [
  {
   "cell_type": "markdown",
   "id": "c4f3a3a0-73e6-4f75-a27d-e0904f325ece",
   "metadata": {},
   "source": [
    "# Notable Practice Problems"
   ]
  },
  {
   "cell_type": "markdown",
   "id": "6d4747f4-b96d-44dd-8234-e310702a2d85",
   "metadata": {},
   "source": [
    "## Knapsack Problem\n",
    "Given weights and values of n items, put these items in a knapsack of capacity W to get the maximum total value in the knapsack.<br>\n",
    "**Dynamic Approach**"
   ]
  },
  {
   "cell_type": "code",
   "execution_count": 8,
   "id": "f977d8c6-37f8-411c-b343-f22826da14dc",
   "metadata": {},
   "outputs": [],
   "source": [
    "val = [50,100,150,200]\n",
    "wt  = [8,16,32,40]\n",
    "W = 64\n",
    "n = len(val)"
   ]
  },
  {
   "cell_type": "code",
   "execution_count": 11,
   "id": "a3ae25ab-a4b5-412a-a878-ea3ee8edce96",
   "metadata": {},
   "outputs": [],
   "source": [
    "def knapsack(W, wt, val, n):\n",
    "    K = [[0 for x in range(W+1)] for x in range(n+1)]\n",
    "    # Table in Bottom Up manner\n",
    "    for i in range(n+1):\n",
    "        for w in range(W+1):\n",
    "            # sets 0th row and column to 0\n",
    "            if i == 0 or w == 0:\n",
    "                K[i][w] = 0\n",
    "            # checks that the weight of the ith object is less than the total weight of the permissible cell (j)\n",
    "            elif wt[i-1] <= w:\n",
    "                # responsible for selecting the max out of the two options available\n",
    "                # can either include or exclude the object\n",
    "                # K[i-1][j] means the ith item is not included\n",
    "                # val[i-1] + K[i-1][w-wt[i-1]] item is included\n",
    "                K[i][w] = max(val[i-1] + K[i-1][w-wt[i-1]], K[i-1][w])\n",
    "            else:\n",
    "                # this part of the loop is accessed when the weight of the ith object is greater than the permissible limit (j)\n",
    "                K[i][w] = K[i-1][w]\n",
    "    return K[n][w]"
   ]
  },
  {
   "cell_type": "code",
   "execution_count": 12,
   "id": "9d4b05a3-6fbd-4a50-9f9a-d50b06807de3",
   "metadata": {},
   "outputs": [
    {
     "name": "stdout",
     "output_type": "stream",
     "text": [
      "350\n"
     ]
    }
   ],
   "source": [
    "print(knapsack(W, wt, val, n))"
   ]
  }
 ],
 "metadata": {
  "kernelspec": {
   "display_name": "Python 3 (ipykernel)",
   "language": "python",
   "name": "python3"
  },
  "language_info": {
   "codemirror_mode": {
    "name": "ipython",
    "version": 3
   },
   "file_extension": ".py",
   "mimetype": "text/x-python",
   "name": "python",
   "nbconvert_exporter": "python",
   "pygments_lexer": "ipython3",
   "version": "3.8.12"
  }
 },
 "nbformat": 4,
 "nbformat_minor": 5
}
